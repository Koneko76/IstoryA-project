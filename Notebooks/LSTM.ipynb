{
 "cells": [
  {
   "cell_type": "markdown",
   "id": "4fbe099f",
   "metadata": {},
   "source": [
    "## Imports"
   ]
  },
  {
   "cell_type": "code",
   "execution_count": 1,
   "id": "1ec4509b",
   "metadata": {},
   "outputs": [],
   "source": [
    "import numpy as np\n",
    "import pandas as pd\n",
    "import spacy\n",
    "import tensorflow as tf\n",
    "import datetime\n",
    "from pickle import dump\n",
    "\n",
    "from keras.preprocessing.text import Tokenizer\n",
    "from keras.utils import to_categorical\n",
    "from keras.models import load_model\n",
    "from keras.preprocessing.sequence import pad_sequences \n",
    "from keras.models import Sequential\n",
    "from keras.layers import Dense, LSTM, Embedding\n",
    "\n",
    "%load_ext tensorboard"
   ]
  },
  {
   "cell_type": "markdown",
   "id": "f8c1369d",
   "metadata": {},
   "source": [
    "## Import dataset & check data"
   ]
  },
  {
   "cell_type": "code",
   "execution_count": 2,
   "id": "140cb9e6",
   "metadata": {},
   "outputs": [
    {
     "data": {
      "text/html": [
       "<div>\n",
       "<style scoped>\n",
       "    .dataframe tbody tr th:only-of-type {\n",
       "        vertical-align: middle;\n",
       "    }\n",
       "\n",
       "    .dataframe tbody tr th {\n",
       "        vertical-align: top;\n",
       "    }\n",
       "\n",
       "    .dataframe thead th {\n",
       "        text-align: right;\n",
       "    }\n",
       "</style>\n",
       "<table border=\"1\" class=\"dataframe\">\n",
       "  <thead>\n",
       "    <tr style=\"text-align: right;\">\n",
       "      <th></th>\n",
       "      <th>title</th>\n",
       "      <th>plot_synopsis</th>\n",
       "      <th>tags</th>\n",
       "    </tr>\n",
       "  </thead>\n",
       "  <tbody>\n",
       "    <tr>\n",
       "      <th>0</th>\n",
       "      <td>the forbidden kingdom</td>\n",
       "      <td>South Boston teenager Jason Tripitikas is a fa...</td>\n",
       "      <td>fantasy, murder, violence, flashback, philosop...</td>\n",
       "    </tr>\n",
       "    <tr>\n",
       "      <th>1</th>\n",
       "      <td>twilight</td>\n",
       "      <td>Seventeen-year-old Bella Swan (Kristen Stewart...</td>\n",
       "      <td>fantasy, gothic, murder, boring, cult, violenc...</td>\n",
       "    </tr>\n",
       "    <tr>\n",
       "      <th>2</th>\n",
       "      <td>guardians of the galaxy</td>\n",
       "      <td>On planet Earth in 1988, young Peter Quill (Wy...</td>\n",
       "      <td>fantasy, murder, violence, flashback, good ver...</td>\n",
       "    </tr>\n",
       "    <tr>\n",
       "      <th>3</th>\n",
       "      <td>shrek 2</td>\n",
       "      <td>Shrek and Fiona return from their honeymoon to...</td>\n",
       "      <td>comedy, fantasy, cult, violence, humor, satire...</td>\n",
       "    </tr>\n",
       "    <tr>\n",
       "      <th>4</th>\n",
       "      <td>matilda</td>\n",
       "      <td>Matilda Wormwood (Mara Wilson) is an incredibl...</td>\n",
       "      <td>comedy, fantasy, cruelty, paranormal, dramatic...</td>\n",
       "    </tr>\n",
       "  </tbody>\n",
       "</table>\n",
       "</div>"
      ],
      "text/plain": [
       "                     title                                      plot_synopsis  \\\n",
       "0    the forbidden kingdom  South Boston teenager Jason Tripitikas is a fa...   \n",
       "1                 twilight  Seventeen-year-old Bella Swan (Kristen Stewart...   \n",
       "2  guardians of the galaxy  On planet Earth in 1988, young Peter Quill (Wy...   \n",
       "3                  shrek 2  Shrek and Fiona return from their honeymoon to...   \n",
       "4                  matilda  Matilda Wormwood (Mara Wilson) is an incredibl...   \n",
       "\n",
       "                                                tags  \n",
       "0  fantasy, murder, violence, flashback, philosop...  \n",
       "1  fantasy, gothic, murder, boring, cult, violenc...  \n",
       "2  fantasy, murder, violence, flashback, good ver...  \n",
       "3  comedy, fantasy, cult, violence, humor, satire...  \n",
       "4  comedy, fantasy, cruelty, paranormal, dramatic...  "
      ]
     },
     "execution_count": 2,
     "metadata": {},
     "output_type": "execute_result"
    }
   ],
   "source": [
    "df_fantasy = pd.read_csv('Data\\Dataset\\Fantasy-V1.csv', nrows=200)\n",
    "df_fantasy.head()"
   ]
  },
  {
   "cell_type": "code",
   "execution_count": 3,
   "id": "1dea9a24",
   "metadata": {},
   "outputs": [
    {
     "data": {
      "text/plain": [
       "0    South Boston teenager Jason Tripitikas is a fa...\n",
       "1    Seventeen-year-old Bella Swan (Kristen Stewart...\n",
       "2    On planet Earth in 1988, young Peter Quill (Wy...\n",
       "3    Shrek and Fiona return from their honeymoon to...\n",
       "4    Matilda Wormwood (Mara Wilson) is an incredibl...\n",
       "Name: plot_synopsis, dtype: object"
      ]
     },
     "execution_count": 3,
     "metadata": {},
     "output_type": "execute_result"
    }
   ],
   "source": [
    "df_fantasy_plot = df_fantasy['plot_synopsis']\n",
    "df_fantasy_plot.head()"
   ]
  },
  {
   "cell_type": "markdown",
   "id": "d4299e59",
   "metadata": {},
   "source": [
    "## Preprocessing"
   ]
  },
  {
   "cell_type": "code",
   "execution_count": 4,
   "id": "e8a1addf",
   "metadata": {},
   "outputs": [],
   "source": [
    "nlp = spacy.load('en_core_web_sm', disable = ['parser', 'tagger', 'ner', 'lemmatizer'])"
   ]
  },
  {
   "cell_type": "code",
   "execution_count": 5,
   "id": "49e4efaa",
   "metadata": {},
   "outputs": [
    {
     "data": {
      "text/plain": [
       "1923547"
      ]
     },
     "execution_count": 5,
     "metadata": {},
     "output_type": "execute_result"
    }
   ],
   "source": [
    "df_fantasy_plot_str = df_fantasy_plot.str.cat(sep=' ')\n",
    "len(df_fantasy_plot_str)"
   ]
  },
  {
   "cell_type": "code",
   "execution_count": 6,
   "id": "090ef1e0",
   "metadata": {},
   "outputs": [
    {
     "data": {
      "text/plain": [
       "347177"
      ]
     },
     "execution_count": 6,
     "metadata": {},
     "output_type": "execute_result"
    }
   ],
   "source": [
    "nlp.max_length = 2000000\n",
    "skip = '\\r\\n \\n\\n \\n\\n\\n!\"-#$%&()--.*+,-./:;<=>?@[\\\\]^_`{|}~\\t\\n\\r '\n",
    "tokens = [token.text.lower() for token in nlp(df_fantasy_plot_str) if token.text not in skip]\n",
    "len(tokens) "
   ]
  },
  {
   "cell_type": "code",
   "execution_count": 7,
   "id": "10a030af",
   "metadata": {},
   "outputs": [],
   "source": [
    "text_sequences = []\n",
    "\n",
    "for i in range(31, len(tokens)):\n",
    "    seq = tokens[i - 31: i]\n",
    "    text_sequences.append(seq)"
   ]
  },
  {
   "cell_type": "code",
   "execution_count": 8,
   "id": "c5edb3a8",
   "metadata": {},
   "outputs": [
    {
     "data": {
      "text/plain": [
       "'south boston teenager jason tripitikas is a fan of martial arts films and awakens from a dream of a battle between the monkey king and celestial soldiers in the clouds he'"
      ]
     },
     "execution_count": 8,
     "metadata": {},
     "output_type": "execute_result"
    }
   ],
   "source": [
    "' '.join(text_sequences[0])"
   ]
  },
  {
   "cell_type": "code",
   "execution_count": 9,
   "id": "75a99925",
   "metadata": {},
   "outputs": [],
   "source": [
    "tokenizer = Tokenizer()\n",
    "tokenizer.fit_on_texts(text_sequences)"
   ]
  },
  {
   "cell_type": "code",
   "execution_count": 10,
   "id": "52653aed",
   "metadata": {},
   "outputs": [],
   "source": [
    "sequences = tokenizer.texts_to_sequences(text_sequences)"
   ]
  },
  {
   "cell_type": "code",
   "execution_count": 11,
   "id": "b0cc6493",
   "metadata": {},
   "outputs": [
    {
     "data": {
      "text/plain": [
       "20372"
      ]
     },
     "execution_count": 11,
     "metadata": {},
     "output_type": "execute_result"
    }
   ],
   "source": [
    "vocabulary_size = len(tokenizer.word_counts)\n",
    "vocabulary_size"
   ]
  },
  {
   "cell_type": "code",
   "execution_count": 12,
   "id": "fb773051",
   "metadata": {},
   "outputs": [],
   "source": [
    "sequences = np.array(sequences)"
   ]
  },
  {
   "cell_type": "code",
   "execution_count": 13,
   "id": "2e1e45f9",
   "metadata": {},
   "outputs": [
    {
     "data": {
      "text/plain": [
       "30"
      ]
     },
     "execution_count": 13,
     "metadata": {},
     "output_type": "execute_result"
    }
   ],
   "source": [
    "X = sequences[:, :-1]\n",
    "\n",
    "sequence_length = X.shape[1]\n",
    "sequence_length"
   ]
  },
  {
   "cell_type": "code",
   "execution_count": 14,
   "id": "f814b9de",
   "metadata": {},
   "outputs": [],
   "source": [
    "Y = sequences[:, -1]\n",
    "Y = to_categorical(Y, num_classes=(vocabulary_size + 1))"
   ]
  },
  {
   "cell_type": "markdown",
   "id": "ff142038",
   "metadata": {},
   "source": [
    "## Create model LSTM"
   ]
  },
  {
   "cell_type": "code",
   "execution_count": 15,
   "id": "678e84ac",
   "metadata": {},
   "outputs": [],
   "source": [
    "def create_model(vocabulary_size, sequence_length):\n",
    "    \n",
    "    model = Sequential()\n",
    "    \n",
    "    model.add(Embedding(input_dim=vocabulary_size, \n",
    "                        output_dim=sequence_length, \n",
    "                        input_length=sequence_length))\n",
    "    model.add(LSTM(units=50, return_sequences=True))\n",
    "    model.add(LSTM(units=50))\n",
    "    model.add(Dense(units=50, activation='relu'))\n",
    "    model.add(Dense(units=vocabulary_size, activation='softmax'))\n",
    "    \n",
    "    model.compile(loss='categorical_crossentropy', \n",
    "                  optimizer='adam', \n",
    "                  metrics=['accuracy'])\n",
    "    \n",
    "    model.summary()\n",
    "    \n",
    "    return model"
   ]
  },
  {
   "cell_type": "code",
   "execution_count": 16,
   "id": "44dae49b",
   "metadata": {},
   "outputs": [
    {
     "name": "stdout",
     "output_type": "stream",
     "text": [
      "Model: \"sequential\"\n",
      "_________________________________________________________________\n",
      "Layer (type)                 Output Shape              Param #   \n",
      "=================================================================\n",
      "embedding (Embedding)        (None, 30, 30)            611190    \n",
      "_________________________________________________________________\n",
      "lstm (LSTM)                  (None, 30, 50)            16200     \n",
      "_________________________________________________________________\n",
      "lstm_1 (LSTM)                (None, 50)                20200     \n",
      "_________________________________________________________________\n",
      "dense (Dense)                (None, 50)                2550      \n",
      "_________________________________________________________________\n",
      "dense_1 (Dense)              (None, 20373)             1039023   \n",
      "=================================================================\n",
      "Total params: 1,689,163\n",
      "Trainable params: 1,689,163\n",
      "Non-trainable params: 0\n",
      "_________________________________________________________________\n"
     ]
    }
   ],
   "source": [
    "model = create_model(vocabulary_size=(vocabulary_size + 1), sequence_length=sequence_length)"
   ]
  },
  {
   "cell_type": "markdown",
   "id": "418a584e",
   "metadata": {},
   "source": [
    "## Train model"
   ]
  },
  {
   "cell_type": "code",
   "execution_count": 17,
   "id": "be4e4e5a",
   "metadata": {},
   "outputs": [
    {
     "name": "stdout",
     "output_type": "stream",
     "text": [
      "Epoch 1/5\n",
      "2713/2713 [==============================] - 89s 32ms/step - loss: 7.2619 - accuracy: 0.0654\n",
      "Epoch 2/5\n",
      "2713/2713 [==============================] - 91s 34ms/step - loss: 6.4544 - accuracy: 0.0979\n",
      "Epoch 3/5\n",
      "2713/2713 [==============================] - 92s 34ms/step - loss: 6.1395 - accuracy: 0.1193\n",
      "Epoch 4/5\n",
      "2713/2713 [==============================] - 92s 34ms/step - loss: 5.9497 - accuracy: 0.1295\n",
      "Epoch 5/5\n",
      "2713/2713 [==============================] - 96s 35ms/step - loss: 5.7808 - accuracy: 0.1395\n"
     ]
    },
    {
     "data": {
      "text/plain": [
       "<tensorflow.python.keras.callbacks.History at 0x1894a28b5e0>"
      ]
     },
     "execution_count": 17,
     "metadata": {},
     "output_type": "execute_result"
    }
   ],
   "source": [
    "log_dir = \"PA_logs/fit/\" + datetime.datetime.now().strftime(\"%Y%m%d-%H%M%S\")\n",
    "tensorboard_callback = tf.keras.callbacks.TensorBoard(log_dir=log_dir, histogram_freq=1)\n",
    "\n",
    "model.fit(x=X, y=Y, batch_size=128, epochs=5, verbose=1, callbacks=[tensorboard_callback])"
   ]
  },
  {
   "cell_type": "markdown",
   "id": "7f6d8c1c",
   "metadata": {},
   "source": [
    "## Result"
   ]
  },
  {
   "cell_type": "code",
   "execution_count": 18,
   "id": "26bcb74c",
   "metadata": {},
   "outputs": [
    {
     "name": "stdout",
     "output_type": "stream",
     "text": [
      "10849/10849 [==============================] - 65s 6ms/step - loss: 5.6422 - accuracy: 0.1449\n"
     ]
    }
   ],
   "source": [
    "loss, accuracy =  model.evaluate(x=X, y=Y)"
   ]
  },
  {
   "cell_type": "markdown",
   "id": "b19c9ec9",
   "metadata": {},
   "source": [
    "## Save"
   ]
  },
  {
   "cell_type": "code",
   "execution_count": 19,
   "id": "a7f60317",
   "metadata": {},
   "outputs": [],
   "source": [
    "dump(tokenizer, open('tokenizer', 'wb'))"
   ]
  },
  {
   "cell_type": "code",
   "execution_count": 20,
   "id": "fc95ea48",
   "metadata": {},
   "outputs": [],
   "source": [
    "model.save('Fantasy-LSTM-relu-adam.h5')"
   ]
  },
  {
   "cell_type": "markdown",
   "id": "e3697cec",
   "metadata": {},
   "source": [
    "## Test model"
   ]
  },
  {
   "cell_type": "code",
   "execution_count": 21,
   "id": "9a147138",
   "metadata": {},
   "outputs": [],
   "source": [
    "model = load_model('Fantasy-LSTM-relu-adam.h5')"
   ]
  },
  {
   "cell_type": "code",
   "execution_count": 22,
   "id": "929c3b0d",
   "metadata": {},
   "outputs": [],
   "source": [
    "def generate_text(model, tokenizer, sequence_length, seed_text, num_generate_words, temperature):\n",
    "    \n",
    "    output_text = []\n",
    "    input_text = seed_text\n",
    "    \n",
    "    for i in range(num_generate_words):\n",
    "        encoded_text = tokenizer.texts_to_sequences([input_text])[0]\n",
    "        pad_encoded = pad_sequences([encoded_text], maxlen=sequence_length, truncating='pre')\n",
    "        pred_distribution = model.predict(pad_encoded, verbose=0)[0]\n",
    "        \n",
    "        new_pred_distribution = np.power(pred_distribution, (1 / temperature)) \n",
    "        new_pred_distribution = new_pred_distribution / new_pred_distribution.sum()\n",
    "        \n",
    "        choices = range(new_pred_distribution.size)\n",
    "        pred_word_ind = np.random.choice(a=choices, p=new_pred_distribution)\n",
    "        pred_word = tokenizer.index_word[pred_word_ind]\n",
    "        input_text += ' ' + pred_word\n",
    "        output_text.append(pred_word)\n",
    "        \n",
    "    return ' '.join(output_text)"
   ]
  },
  {
   "cell_type": "code",
   "execution_count": 23,
   "id": "38d031f1",
   "metadata": {},
   "outputs": [],
   "source": [
    "seed_text = 'The Minister of Magic, Rufus, addresses the wizarding media, stating that the Ministry will remain strong even as the demons gains strength.'"
   ]
  },
  {
   "cell_type": "code",
   "execution_count": 24,
   "id": "29fb602f",
   "metadata": {},
   "outputs": [
    {
     "name": "stdout",
     "output_type": "stream",
     "text": [
      "The Minister of Magic, Rufus, addresses the wizarding media, stating that the Ministry will remain strong even as the demons gains strength. of a willo the island or restates r.k. into the big night 's wife wearing a beeline and anvil in the stone that his feelings ring he likes this from a suv 's mission and george they have at any left but while most of the orcs before the king 's powerful jack will escape him thomas takes him to rescue the cage to cross the ship over his destruction and says that the western saito opens them anastasia who\n"
     ]
    }
   ],
   "source": [
    "generated_text = generate_text(model=model, tokenizer=tokenizer,\n",
    "                                sequence_length=sequence_length, \n",
    "                                seed_text=seed_text, \n",
    "                                num_generate_words=80, \n",
    "                                temperature=0.9)\n",
    "\n",
    "print(seed_text + ' ' + generated_text)"
   ]
  },
  {
   "cell_type": "code",
   "execution_count": null,
   "id": "dd76fb29",
   "metadata": {},
   "outputs": [],
   "source": []
  }
 ],
 "metadata": {
  "kernelspec": {
   "display_name": "Python 3",
   "language": "python",
   "name": "python3"
  },
  "language_info": {
   "codemirror_mode": {
    "name": "ipython",
    "version": 3
   },
   "file_extension": ".py",
   "mimetype": "text/x-python",
   "name": "python",
   "nbconvert_exporter": "python",
   "pygments_lexer": "ipython3",
   "version": "3.8.8"
  }
 },
 "nbformat": 4,
 "nbformat_minor": 5
}
