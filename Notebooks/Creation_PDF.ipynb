{
 "cells": [
  {
   "cell_type": "markdown",
   "metadata": {},
   "source": [
    "## Imports"
   ]
  },
  {
   "cell_type": "code",
   "execution_count": 36,
   "metadata": {},
   "outputs": [],
   "source": [
    "from fpdf import FPDF\n",
    "from PIL import ImageFont\n",
    "from PIL import Image\n",
    "from PIL import ImageDraw\n",
    "import textwrap\n",
    "import os"
   ]
  },
  {
   "cell_type": "markdown",
   "metadata": {},
   "source": [
    "## Creation and settings for the PDF file"
   ]
  },
  {
   "cell_type": "code",
   "execution_count": 37,
   "metadata": {},
   "outputs": [],
   "source": [
    "class PDF(FPDF):\n",
    "     pass "
   ]
  },
  {
   "cell_type": "code",
   "execution_count": 38,
   "metadata": {},
   "outputs": [],
   "source": [
    "pdf = PDF(orientation='P', unit='mm', format='A4')"
   ]
  },
  {
   "cell_type": "code",
   "execution_count": 39,
   "metadata": {},
   "outputs": [],
   "source": [
    "from os import walk\n",
    "image_list = []\n",
    "path = 'Data/Creation_PDF/Pictures'\n",
    "files = os.listdir(path)\n",
    "for name in files:\n",
    "    if name != 'blank.jpg':\n",
    "        image_list.append(path+'/'+name)"
   ]
  },
  {
   "cell_type": "markdown",
   "metadata": {},
   "source": [
    "## Sentence example"
   ]
  },
  {
   "cell_type": "code",
   "execution_count": 40,
   "metadata": {},
   "outputs": [],
   "source": [
    " text = [\"Texte est issu du mot latin textum, dérivé du verbe texere qui signifietisser. Le mot s'applique à l'entrelacement des fibres utilisées dans le tissage, voir par exemple Ovide : « Quo super iniecit textum rude sedula Baucis = (un siège) sur lequel Baucis empressée avait jeté un tissu grossier »2 ou au tressage (exemple chez Martial « Vimineum textum = panier d'osier tressé »).\",\n",
    "         \" Le verbe a aussi le sens large de construire comme dans « basilicam texere = construire une basilique » chez Cicéron3.\",\n",
    "         \"Le sens figuré d'éléments de langage organisés et enchaînés apparaît avant l'Empire romain : il désigne un agencement particulier du discours. Exemple : « epistolas texere = composer des épîtres »\",\n",
    "         \"Cicéron (ier siècle av. J.-C.)4 ou plus nettement chez Quintilien (ier siècle apr. J.-C.) : « verba in textu jungantur = l'agencement des mots dans la phrase \",\n",
    "         \"Les formes anciennes du Moyen Âge désignent au xiie siècle le volume qui contient le texte sacré des Évangiles, puis au xiiie siècle, le texte original d'un livre saint ou des propos de quelqu'un\",\n",
    "         \"Au xviie siècle le mot s’applique au passage d'un ouvrage pris comme référence et au début du xixe siècle le mot texte a son sens général d'« écrit »6.\",\n",
    "         \"Ce texte est un exemple non généré par un modèle et n'a aucun rapport avec un oiseau marron\"]"
   ]
  },
  {
   "cell_type": "markdown",
   "metadata": {},
   "source": [
    "## Resize of images, to add a blank space to write text"
   ]
  },
  {
   "cell_type": "code",
   "execution_count": 41,
   "metadata": {},
   "outputs": [],
   "source": [
    "for i in range(0,len(image_list)):\n",
    "    im = Image.open(image_list[i])\n",
    "    im_size = im.size\n",
    "    Add_Padd = 200\n",
    "    new_im = Image.new('RGB', (im_size[0],im_size[1]+Add_Padd),(255,255,255))\n",
    "    new_im.paste(im, (0,Add_Padd))\n",
    "    image_list[i]=image_list[i][:-4]+ '_resize.jpg'\n",
    "    new_im.save(image_list[i])"
   ]
  },
  {
   "cell_type": "markdown",
   "metadata": {},
   "source": [
    "## Write text into blank space"
   ]
  },
  {
   "cell_type": "code",
   "execution_count": 42,
   "metadata": {},
   "outputs": [],
   "source": [
    "for i in range(0,len(image_list)):\n",
    "    im = Image.open(image_list[i])\n",
    "    font = ImageFont.truetype(r'C:\\Users\\System-Pc\\Desktop\\arial.ttf', 22) \n",
    "    draw = ImageDraw.Draw(im)\n",
    "    lines = textwrap.wrap(text[i], width=50)\n",
    "    y_text = 4\n",
    "    for line in lines:\n",
    "        width, height = font.getsize(line)\n",
    "        draw.text((0, y_text),line, (0,0,0), font=font,align = 'center')\n",
    "        y_text += height\n",
    "    image_list[i]=image_list[i][:-11]+ '_final.jpg'\n",
    "    im.save(image_list[i])"
   ]
  },
  {
   "cell_type": "markdown",
   "metadata": {},
   "source": [
    "## Calculate page number for the PDF"
   ]
  },
  {
   "cell_type": "code",
   "execution_count": 43,
   "metadata": {},
   "outputs": [],
   "source": [
    "image_number = len(image_list)\n",
    "page_image_number = 6\n",
    "i = (image_number//page_image_number)\n",
    "if image_number%page_image_number == 0:\n",
    "    i = (image_number//page_image_number)-1"
   ]
  },
  {
   "cell_type": "markdown",
   "metadata": {},
   "source": [
    "## Draw case in our PDF, add title with page number, then put image in case, defaut is a blank image"
   ]
  },
  {
   "cell_type": "code",
   "execution_count": 44,
   "metadata": {},
   "outputs": [
    {
     "data": {
      "text/plain": [
       "''"
      ]
     },
     "execution_count": 44,
     "metadata": {},
     "output_type": "execute_result"
    }
   ],
   "source": [
    "while i >= 0:\n",
    "    pdf.add_page()\n",
    "    \n",
    "    #left side\n",
    "    pdf.rect(10,20,80,80)\n",
    "    pdf.rect(12,22,76,76)\n",
    "\n",
    "    pdf.rect(10,115,80,80)\n",
    "    pdf.rect(12,117,76,76)\n",
    "\n",
    "    pdf.rect(10,210,80,80)\n",
    "    pdf.rect(12,212,76,76)\n",
    "\n",
    "    #right side\n",
    "    pdf.rect(120,20,80,80)\n",
    "    pdf.rect(122,22,76,76)\n",
    "\n",
    "    pdf.rect(120,115,80,80)\n",
    "    pdf.rect(122,117,76,76)\n",
    "\n",
    "    pdf.rect(120,210,80,80)\n",
    "    pdf.rect(122,212,76,76)\n",
    "    \n",
    "    pdf.set_font('Arial', 'b', 15)\n",
    "    pdf.cell(70,1)\n",
    "    pdf.cell(50, 5, 'Creation PDF example - Page '+str(i+1),0,1,align ='C')\n",
    "    pdf.set_font('Arial', 'b', 10)\n",
    "\n",
    "    for x in range (0,i+1):\n",
    "        \n",
    "        if x*6+0 <=(len(image_list)-1):\n",
    "            pdf.image(image_list [x*6+0], x = 25, y = 24, w = 50, h = 70 , type = '', link = '')\n",
    "        else:\n",
    "            pdf.image('Data/Creation_PDF/Pictures/blank.jpg', x = 25, y = 24, w = 50, h = 70 , type = '', link = '')\n",
    "            \n",
    "        if x*6+1<=(len(image_list)-1):\n",
    "            pdf.image(image_list [x*6+1], x = 135, y = 24, w = 50, h = 70 , type = '', link = '')\n",
    "        else:\n",
    "            pdf.image('Data/Creation_PDF/Pictures/blank.jpg', x = 135, y = 24, w = 50, h = 70 , type = '', link = '')\n",
    "            \n",
    "        if x*6+2<=(len(image_list)-1):\n",
    "            pdf.image(image_list [x*6+2], x = 25, y = 120, w = 50, h = 70 , type = '', link = '')\n",
    "        else:\n",
    "            pdf.image('Data/Creation_PDF/Pictures/blank.jpg', x = 25, y = 120, w = 50, h = 70 , type = '', link = '')\n",
    "            \n",
    "        if x*6+3<=(len(image_list)-1):\n",
    "            pdf.image(image_list [x*6+3], 135, y = 120, w = 50, h = 70 , type = '', link = '')\n",
    "        else:\n",
    "            pdf.image('Data/Creation_PDF/Pictures/blank.jpg', 135, y = 120, w = 50, h = 70 , type = '', link = '')\n",
    "            \n",
    "        if x*6+4<=(len(image_list)-1):\n",
    "            pdf.image(image_list [x*6+4], x = 25, y = 215, w = 50, h = 70 , type = '', link = '')\n",
    "        else:\n",
    "            pdf.image('Data/Creation_PDF/Pictures/blank.jpg', x = 25, y = 215, w = 50, h = 70 , type = '', link = '')\n",
    "            \n",
    "        if x*6+5<=(len(image_list)-1):\n",
    "            pdf.image(image_list [x*6+5], x = 135, y = 215, w = 50, h = 70 , type = '', link = '')\n",
    "        else:\n",
    "            pdf.image('Data/Creation_PDF/Pictures/blank.jpg', x = 135, y = 215, w = 50, h = 70 , type = '', link = '')\n",
    "    \n",
    "    i=i-1\n",
    "\n",
    "pdf.output('Data/Creation_PDF/Result_PDF/test.pdf','F')"
   ]
  },
  {
   "cell_type": "markdown",
   "metadata": {},
   "source": [
    "## Delete temp pictures"
   ]
  },
  {
   "cell_type": "code",
   "execution_count": 45,
   "metadata": {},
   "outputs": [],
   "source": [
    "from os import walk\n",
    "image_list = []\n",
    "files = os.listdir(path)\n",
    "for doc in files:\n",
    "    if 'resize' in doc:\n",
    "        os.remove(path+'/'+doc)\n",
    "    elif 'final' in doc:\n",
    "         os.remove(path+'/'+doc)"
   ]
  }
 ],
 "metadata": {
  "kernelspec": {
   "display_name": "Python 3",
   "language": "python",
   "name": "python3"
  },
  "language_info": {
   "codemirror_mode": {
    "name": "ipython",
    "version": 3
   },
   "file_extension": ".py",
   "mimetype": "text/x-python",
   "name": "python",
   "nbconvert_exporter": "python",
   "pygments_lexer": "ipython3",
   "version": "3.8.5"
  }
 },
 "nbformat": 4,
 "nbformat_minor": 4
}
