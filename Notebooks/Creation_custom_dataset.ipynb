{
 "cells": [
  {
   "cell_type": "markdown",
   "metadata": {},
   "source": [
    "## Import"
   ]
  },
  {
   "cell_type": "code",
   "execution_count": 3,
   "metadata": {},
   "outputs": [],
   "source": [
    "import pandas as pd"
   ]
  },
  {
   "cell_type": "markdown",
   "metadata": {},
   "source": [
    "## Charge the differente dataset"
   ]
  },
  {
   "cell_type": "code",
   "execution_count": 2,
   "metadata": {},
   "outputs": [],
   "source": [
    "#https://www.kaggle.com/cryptexcode/mpst-movie-plot-synopses-with-tags\n",
    "df = pd.read_csv('mpst_full_data.csv')"
   ]
  },
  {
   "cell_type": "code",
   "execution_count": 4,
   "metadata": {},
   "outputs": [],
   "source": [
    "#https://www.kaggle.com/rounakbanik/the-movies-dataset\n",
    "df2 = pd.read_csv('movies_metadata.csv', low_memory=False)"
   ]
  },
  {
   "cell_type": "code",
   "execution_count": 6,
   "metadata": {},
   "outputs": [],
   "source": [
    "#https://www.kaggle.com/jrobischon/wikipedia-movie-plots\n",
    "df3 = pd.read_csv('wiki_movie_plots_deduped.csv')"
   ]
  },
  {
   "cell_type": "markdown",
   "metadata": {},
   "source": [
    "## Standardization of datasets"
   ]
  },
  {
   "cell_type": "code",
   "execution_count": 8,
   "metadata": {},
   "outputs": [],
   "source": [
    "df_bis = df.drop(['imdb_id', 'split', 'synopsis_source'], axis=1)"
   ]
  },
  {
   "cell_type": "code",
   "execution_count": 10,
   "metadata": {},
   "outputs": [],
   "source": [
    "df2_bis = pd.DataFrame(columns=['title','plot_synopsis','tags'])"
   ]
  },
  {
   "cell_type": "code",
   "execution_count": 11,
   "metadata": {},
   "outputs": [],
   "source": [
    "for i in range(0,len(df2)):\n",
    "    if df2['original_language'][i] == 'en':\n",
    "        title = df2['original_title'][i]\n",
    "        plot_synopsis = df2['overview'][i]\n",
    "        tags = df2['genres'][i]\n",
    "        df2_bis.loc[i,'title']=(title)\n",
    "        df2_bis.loc[i,'plot_synopsis']=(plot_synopsis)\n",
    "        df2_bis.loc[i,'tags']=(tags)\n"
   ]
  },
  {
   "cell_type": "code",
   "execution_count": 13,
   "metadata": {},
   "outputs": [],
   "source": [
    "df3_bis = pd.DataFrame(columns=['title','plot_synopsis','tags'])"
   ]
  },
  {
   "cell_type": "code",
   "execution_count": 14,
   "metadata": {},
   "outputs": [],
   "source": [
    "for i in range(0,len(df3)):\n",
    "    if df3['Genre'][i] != 'unknown':\n",
    "        title = df3['Title'][i]\n",
    "        plot_synopsis = df3['Plot'][i]\n",
    "        tags = df3['Genre'][i]\n",
    "        df3_bis.loc[i,'title']=(title)\n",
    "        df3_bis.loc[i,'plot_synopsis']=(plot_synopsis)\n",
    "        df3_bis.loc[i,'tags']=(tags)"
   ]
  },
  {
   "cell_type": "markdown",
   "metadata": {},
   "source": [
    "## Concatenation of the 3 datasets into a single one"
   ]
  },
  {
   "cell_type": "code",
   "execution_count": 16,
   "metadata": {},
   "outputs": [],
   "source": [
    "ultimate_dataframe = pd.DataFrame(columns=['title','plot_synopsis','tags'])"
   ]
  },
  {
   "cell_type": "code",
   "execution_count": 17,
   "metadata": {},
   "outputs": [],
   "source": [
    "ultimate_dataframe = ultimate_dataframe.append(df_bis)\n",
    "ultimate_dataframe = ultimate_dataframe.append(df2_bis)\n",
    "ultimate_dataframe = ultimate_dataframe.append(df3_bis)"
   ]
  },
  {
   "cell_type": "code",
   "execution_count": 19,
   "metadata": {},
   "outputs": [],
   "source": [
    "ultimate_dataframe['title'] = ultimate_dataframe['title'].str.lower()"
   ]
  },
  {
   "cell_type": "code",
   "execution_count": 21,
   "metadata": {},
   "outputs": [],
   "source": [
    "ultimate_dataframe.drop_duplicates(subset=['plot_synopsis'], inplace=True)"
   ]
  },
  {
   "cell_type": "code",
   "execution_count": 22,
   "metadata": {},
   "outputs": [],
   "source": [
    "ultimate_dataframe.to_csv(r'entire_movie_dataset.csv', index = False)"
   ]
  },
  {
   "cell_type": "code",
   "execution_count": 4,
   "metadata": {},
   "outputs": [],
   "source": [
    "ultimate_dataframe = pd.read_csv('entire_movie_dataset.csv')"
   ]
  },
  {
   "cell_type": "markdown",
   "metadata": {},
   "source": [
    "## View of all movies type in the dataset"
   ]
  },
  {
   "cell_type": "code",
   "execution_count": 6,
   "metadata": {},
   "outputs": [
    {
     "data": {
      "text/plain": [
       "array(['cult, horror, gothic, murder, atmospheric', 'violence',\n",
       "       'romantic', ..., 'adventure, romance, fantasy film', 'ero',\n",
       "       'horror romantic comedy'], dtype=object)"
      ]
     },
     "execution_count": 6,
     "metadata": {},
     "output_type": "execute_result"
    }
   ],
   "source": [
    "ultimate_dataframe['tags'].unique()"
   ]
  },
  {
   "cell_type": "markdown",
   "metadata": {},
   "source": [
    "## Creation of specific dataset"
   ]
  },
  {
   "cell_type": "code",
   "execution_count": 24,
   "metadata": {},
   "outputs": [],
   "source": [
    "dataframe_specific = pd.DataFrame(columns=['title','plot_synopsis','tags'])"
   ]
  },
  {
   "cell_type": "code",
   "execution_count": 25,
   "metadata": {},
   "outputs": [],
   "source": [
    "for i in range(0, len(ultimate_dataframe)):\n",
    "    fullstring = ultimate_dataframe['tags'][i]\n",
    "    #Here the type is fantasy, you can change with any other movie type\n",
    "    substring = 'fantasy'\n",
    "    if substring in fullstring:\n",
    "        title = ultimate_dataframe['title'][i]\n",
    "        plot_synopsis = ultimate_dataframe['plot_synopsis'][i]\n",
    "        tags = ultimate_dataframe['tags'][i]\n",
    "        dataframe_specific.loc[i,'title']=(title)\n",
    "        dataframe_specific.loc[i,'plot_synopsis']=(plot_synopsis)\n",
    "        dataframe_specific.loc[i,'tags']=(tags)"
   ]
  },
  {
   "cell_type": "markdown",
   "metadata": {},
   "source": [
    "## Create a CSV File with titles, plot synopsis and tags"
   ]
  },
  {
   "cell_type": "code",
   "execution_count": 27,
   "metadata": {},
   "outputs": [],
   "source": [
    "dataframe_specific.to_csv(r'Fantasy.csv', index = False)"
   ]
  },
  {
   "cell_type": "markdown",
   "metadata": {},
   "source": [
    "## Create a text file with only the plot synopsis"
   ]
  },
  {
   "cell_type": "code",
   "execution_count": 28,
   "metadata": {},
   "outputs": [],
   "source": [
    "text_specific = dataframe_specific['plot_synopsis']"
   ]
  },
  {
   "cell_type": "code",
   "execution_count": 29,
   "metadata": {},
   "outputs": [],
   "source": [
    "text_specific.to_csv(r'Fantasy.txt', header=False, index=False, sep='\\t', mode='a')"
   ]
  }
 ],
 "metadata": {
  "kernelspec": {
   "display_name": "Python 3",
   "language": "python",
   "name": "python3"
  },
  "language_info": {
   "codemirror_mode": {
    "name": "ipython",
    "version": 3
   },
   "file_extension": ".py",
   "mimetype": "text/x-python",
   "name": "python",
   "nbconvert_exporter": "python",
   "pygments_lexer": "ipython3",
   "version": "3.8.5"
  }
 },
 "nbformat": 4,
 "nbformat_minor": 4
}
